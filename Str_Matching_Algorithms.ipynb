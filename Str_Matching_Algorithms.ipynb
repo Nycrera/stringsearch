{
 "cells": [
  {
   "attachments": {},
   "cell_type": "markdown",
   "metadata": {},
   "source": [
    "ADD MARK TAG FUNCTION:"
   ]
  },
  {
   "cell_type": "code",
   "execution_count": 2,
   "metadata": {},
   "outputs": [
    {
     "data": {
      "text/plain": [
       "'000<mark>10101</mark>1000000<mark>101</mark>0000<mark>10101</mark>00000000'"
      ]
     },
     "execution_count": 2,
     "metadata": {},
     "output_type": "execute_result"
    }
   ],
   "source": [
    "def add_mark_tag(current_matched_index,searched_pattern,text):\n",
    "   target_text=\"\"\n",
    "   skip=False\n",
    "   for i in range(len(current_matched_index)):\n",
    "      if not (skip):\n",
    "         if i == 0:\n",
    "            k=0\n",
    "         else:\n",
    "            k=current_matched_index[i-1]+len(searched_pattern)+13\n",
    "         if i+1>len(current_matched_index)-1:\n",
    "            e=len(text)\n",
    "         else:\n",
    "            e=current_matched_index[i+1]\n",
    "            if (current_matched_index[i] + len(searched_pattern)-1==current_matched_index[i+1]):\n",
    "               if i+2 > len(current_matched_index)-1:\n",
    "                  e=len(text)\n",
    "               else:\n",
    "                  e=current_matched_index[i+2]\n",
    "               target_text+=text[k:current_matched_index[i]] + \"<mark>\" + searched_pattern + searched_pattern[1:] + \"</mark>\" + text[current_matched_index[i]+len(searched_pattern)*2-1:e]\n",
    "               skip=True\n",
    "         if not (skip):\n",
    "            target_text += text[k:current_matched_index[i]] + \"<mark>\" + searched_pattern + \"</mark>\" + text[current_matched_index[i]+len(searched_pattern):e]\n",
    "      else:\n",
    "         if i+1==len(current_matched_index)-1:\n",
    "            e=len(text)\n",
    "            target_text+=text[current_matched_index[i]+len(searched_pattern)*2-1:e]\n",
    "         skip=False\n",
    "   return target_text\n",
    "add_mark_tag([3,5,15,22,24],\"101\",\"00010101100000010100001010100000000\")  "
   ]
  },
  {
   "attachments": {},
   "cell_type": "markdown",
   "metadata": {},
   "source": [
    "BRUTE FORCE ALGORITHM:"
   ]
  },
  {
   "cell_type": "code",
   "execution_count": 3,
   "metadata": {},
   "outputs": [],
   "source": [
    "import time    \n",
    "def BruteForce(input_path, searched_pattern):\n",
    "    with open(input_path, \"r\", encoding='utf-8') as f:\n",
    "        text= f.read()\n",
    "    #text=\"abcabcabbbfgergoabckewşrkgeşrgerabcabcw4erwrwerabc\"\n",
    "    #text=\"10000100001\"\n",
    "    len_searched_pattern = len(searched_pattern)\n",
    "    len_text = len(text)\n",
    "    print(\"Len: \"+str(len_text))\n",
    "    current_index = 0\n",
    "    current_matched_index=[]\n",
    "    match_count=0\n",
    "    number_of_comparisons=0\n",
    "    elapsed_time=0\n",
    "    target_text=\"\"\n",
    "    start=time.time()\n",
    "    matched=False\n",
    "    while(current_index < len_text-len_searched_pattern+1):\n",
    "        if(matched):\n",
    "            current_matched_index.append(current_index)\n",
    "            current_index+=1\n",
    "            #print(\"Genel Eşleşme başarılı: \" + text[(current_index-len_searched_pattern):current_index])\n",
    "            match_count+=1\n",
    "        for index_of_pattern in range(len_searched_pattern):\n",
    "            end_point = current_index+index_of_pattern\n",
    "            if(end_point>len_text-len_searched_pattern+1):\n",
    "                break\n",
    "            number_of_comparisons+=1\n",
    "            \"\"\"\n",
    "            print(\"K1:\" + searched_pattern[index_of_pattern])\n",
    "            print(\"K2:\" + text[end_point]) \"\"\"\n",
    "            if(searched_pattern[index_of_pattern] != text[end_point]):\n",
    "                current_index=current_index+1\n",
    "                #print(\"Eşleşme başarısız\")\n",
    "                matched=False\n",
    "                break\n",
    "            else:\n",
    "                #print(\"Eşleşme başarılı\")\n",
    "                matched=True\n",
    "    print(\"Number of comparison: \" + str(number_of_comparisons))\n",
    "    print(\"Match count: \" + str(match_count))\n",
    "    elapsed_time=time.time()-start\n",
    "    print(\"Elapsed time: \" + str(elapsed_time))\n",
    "    print(current_index)\n",
    "    target_text=add_mark_tag(current_matched_index,searched_pattern,text)\n",
    "    with open(input_path + \"_output.html\",'w') as file:\n",
    "        file.write(target_text)\n"
   ]
  },
  {
   "cell_type": "code",
   "execution_count": 4,
   "metadata": {},
   "outputs": [
    {
     "name": "stdout",
     "output_type": "stream",
     "text": [
      "Len: 1048602\n",
      "Number of comparison: 2120888\n",
      "Match count: 4301\n",
      "Elapsed time: 0.5306084156036377\n",
      "1048597\n"
     ]
    }
   ],
   "source": [
    "input_path =\"test_bitstring_w.html\"\n",
    "BruteForce(input_path,\"100101\")"
   ]
  },
  {
   "attachments": {},
   "cell_type": "markdown",
   "metadata": {},
   "source": [
    "CREATING BAD SYMBOL TABLE FOR BAYER-MOORE AND HORSPOOL"
   ]
  },
  {
   "cell_type": "code",
   "execution_count": 5,
   "metadata": {},
   "outputs": [],
   "source": [
    "def get_bad_symbol_table(searched_pattern):\n",
    "    searched_pattern = searched_pattern[::-1]\n",
    "    bad_symbol_dict={}\n",
    "    for val in range(1,len(searched_pattern)):\n",
    "        if(searched_pattern[val] not in bad_symbol_dict.keys()):\n",
    "            bad_symbol_dict[searched_pattern[val]] = val\n",
    "    bad_symbol_dict['Other letters'] = len(searched_pattern)\n",
    "    return bad_symbol_dict"
   ]
  },
  {
   "attachments": {},
   "cell_type": "markdown",
   "metadata": {},
   "source": [
    "HORSPOOL ALGORITHM:"
   ]
  },
  {
   "cell_type": "code",
   "execution_count": 6,
   "metadata": {},
   "outputs": [],
   "source": [
    "def HorsPool(input_path, searched_pattern):\n",
    "    with open(input_path, \"r\", encoding='utf-8') as f:\n",
    "        text= f.read()\n",
    "    #text=\"10000100001\"\n",
    "    len_searched_pattern = len(searched_pattern)\n",
    "    len_text = len(text)\n",
    "    current_matched_index=[]\n",
    "    current_index = 0\n",
    "    number_of_comparisons=0\n",
    "    elapsed_time=0\n",
    "    match_count=0\n",
    "    target_text=\"\"\n",
    "    start=time.time()\n",
    "    matched=False\n",
    "    shift_dict = get_bad_symbol_table(searched_pattern)\n",
    "    print(shift_dict)\n",
    "    while(current_index < len_text-len_searched_pattern+1):\n",
    "        if(matched):\n",
    "            current_matched_index.append(current_index)\n",
    "            current_index+=1\n",
    "            #print(\"Genel Eşleşme başarılı: \" + text[(current_index-len_searched_pattern):current_index])\n",
    "            match_count+=1\n",
    "        for index_of_pattern in range(len_searched_pattern-1,-1,-1):\n",
    "            end_point = current_index+index_of_pattern\n",
    "            last_char_of_comparison = current_index+len_searched_pattern-1\n",
    "            if(end_point>len_text-len_searched_pattern+1):\n",
    "                current_index=len_text-1\n",
    "                break\n",
    "            number_of_comparisons+=1\n",
    "            \"\"\"\n",
    "            print(\"K1:\" + searched_pattern[index_of_pattern])\n",
    "            print(\"K2:\" + text[end_point]) \"\"\"\n",
    "            if(searched_pattern[index_of_pattern] != text[end_point]):\n",
    "                shift_count=0\n",
    "                if(text[last_char_of_comparison] in shift_dict.keys()):\n",
    "                    shift_count=shift_dict[text[last_char_of_comparison]]\n",
    "                else:\n",
    "                    shift_count=shift_dict['Other letters']\n",
    "                #print(\"KARŞILAŞTIRMA (SON KARAKTER): \" + text[last_char_of_comparison])\n",
    "                current_index=current_index+shift_count\n",
    "                #print(\"Eşleşme başarısız\")\n",
    "                matched=False\n",
    "                break\n",
    "            else:\n",
    "                #print(\"Eşleşme başarılı\")\n",
    "                matched=True\n",
    "    print(\"Number of comparison: \" + str(number_of_comparisons))\n",
    "    print(\"Match count: \" + str(match_count))\n",
    "    elapsed_time=time.time()-start\n",
    "    print(\"Elapsed time: \" + str(elapsed_time))\n",
    "    target_text=add_mark_tag(current_matched_index,searched_pattern,text)\n",
    "    with open(input_path + \"_output.html\",'w') as file:\n",
    "        file.write(target_text)\n"
   ]
  },
  {
   "attachments": {},
   "cell_type": "markdown",
   "metadata": {},
   "source": [
    "BUILDING GOOD SUFFIX TABLE AND DETECTING PREFIX-SUFFIX OCCURENCES FOR BAYER-MOORE:"
   ]
  },
  {
   "cell_type": "code",
   "execution_count": 7,
   "metadata": {},
   "outputs": [
    {
     "data": {
      "text/plain": [
       "{1: [6, '0'],\n",
       " 2: [4, '10'],\n",
       " 3: [4, '010'],\n",
       " 4: [2, '1010'],\n",
       " 5: [2, '01010'],\n",
       " 6: [2, '101010']}"
      ]
     },
     "execution_count": 7,
     "metadata": {},
     "output_type": "execute_result"
    }
   ],
   "source": [
    "def is_longest_occurence(good_suffix_table,k,matched_pattern,searched_pattern):\n",
    "     if(k==2):\n",
    "         return False\n",
    "     if((len(good_suffix_table.keys())>1) and (good_suffix_table[k-1][1] in matched_pattern)) and (good_suffix_table[k-1][1] in searched_pattern[0:len(good_suffix_table[k-1][1])]):\n",
    "         return True\n",
    "     else:\n",
    "         return is_longest_occurence(good_suffix_table,k-1,matched_pattern,searched_pattern)\n",
    "def build_good_suffix_table(searched_pattern):\n",
    "    len_searched_pattern = len(searched_pattern)\n",
    "    good_suffix_table = {}\n",
    "    k=1\n",
    "    while(k<=len_searched_pattern):\n",
    "        matched_pattern = searched_pattern[(len_searched_pattern-k):len(searched_pattern)]\n",
    "        len_matched_pattern = len(matched_pattern)\n",
    "        if(k-1>=0) and len_searched_pattern-k>=1:\n",
    "            preciding_char = searched_pattern[len_searched_pattern-k-1]\n",
    "        else:\n",
    "            preciding_char=\" \"\n",
    "        current_char=\"\"\n",
    "        \"\"\"\n",
    "        print(\"Matched_pattern: \" + matched_pattern)\n",
    "        print(\"Preceeding char: \" +preciding_char)\n",
    "        \"\"\"\n",
    "        current_index=0\n",
    "        reference_index=-1\n",
    "        while(current_index<len_searched_pattern-1):\n",
    "            for i in range(current_index,len_searched_pattern+1,k):\n",
    "                if (searched_pattern[i:i+k] == matched_pattern):\n",
    "                    \"\"\"\n",
    "                    if matched_pattern==\"00101\":\n",
    "                        print(matched_pattern + \" founded in: \" +str(i) + \"-\" + str(i+k))\n",
    "                    \"\"\"\n",
    "                    if(i == 0):\n",
    "                        reference_index=0\n",
    "                    elif(preciding_char != searched_pattern[i-1]):\n",
    "                        reference_index=i\n",
    "            current_index+=1\n",
    "        #print(\"Reference_index:\" + str(reference_index))\n",
    "        if(reference_index==-1 or k==len_searched_pattern) :\n",
    "            #print(searched_pattern[0:len(good_suffix_table[k-1][1])])\n",
    "            if((len(good_suffix_table.keys())>1) and (good_suffix_table[k-1][1] in matched_pattern)) and is_longest_occurence(good_suffix_table,k,matched_pattern,searched_pattern):\n",
    "                #if(matched_pattern==\"00101\"):\n",
    "                    #print(\"ferfewr\")\n",
    "                d = good_suffix_table[k-1][0]\n",
    "            elif(matched_pattern[len_matched_pattern-1] == searched_pattern[0]): #Last char-first char match\n",
    "                #print(\"dwddddddd\")\n",
    "                d=len_searched_pattern-1\n",
    "            else:\n",
    "                d=len_searched_pattern\n",
    "        else:\n",
    "            #print(\"aaaaa\" + matched_pattern)\n",
    "            d=len_searched_pattern-reference_index-1-(len_matched_pattern-1)\n",
    "        lst=[d,matched_pattern]\n",
    "        good_suffix_table[k]=lst\n",
    "        \"\"\"\n",
    "        print(\"d:\" + str(d))\n",
    "        print(\"k:\"+str(k))\n",
    "        print(\"--------\\n\")\n",
    "        \"\"\"\n",
    "        k+=1\n",
    "    return good_suffix_table\n",
    "build_good_suffix_table(\"101010\")"
   ]
  },
  {
   "attachments": {},
   "cell_type": "markdown",
   "metadata": {},
   "source": [
    "BAYER-MOORE ALGORITHM:"
   ]
  },
  {
   "cell_type": "code",
   "execution_count": 8,
   "metadata": {},
   "outputs": [],
   "source": [
    "def Bayer_Moore(input_path,searched_pattern):\n",
    "    with open(input_path, \"r\", encoding='utf-8') as f:\n",
    "        text= f.read()\n",
    "    #text=\"10000100001\"\n",
    "    len_searched_pattern = len(searched_pattern)\n",
    "    len_text = len(text)\n",
    "    current_matched_index=[]\n",
    "    current_index = 0\n",
    "    number_of_comparisons=0\n",
    "    elapsed_time=0\n",
    "    k=0\n",
    "    match_count=0\n",
    "    target_text=\"\"\n",
    "    start=time.time()\n",
    "    matched=False\n",
    "    shift_dict = get_bad_symbol_table(searched_pattern)\n",
    "    shift_dict_good = build_good_suffix_table(searched_pattern)\n",
    "    print(shift_dict_good)\n",
    "    print(shift_dict)\n",
    "    while(current_index < len_text-len_searched_pattern+1):\n",
    "        #print(current_index)\n",
    "        if(matched):\n",
    "            current_matched_index.append(current_index)\n",
    "            current_index+=1\n",
    "            #print(\"Genel Eşleşme başarılı: \" + text[(current_index-len_searched_pattern):current_index])\n",
    "            match_count+=1\n",
    "        k=0\n",
    "        for index_of_pattern in range(len_searched_pattern-1,-1,-1):\n",
    "            end_point = current_index+index_of_pattern\n",
    "            if(end_point>len_text-len_searched_pattern+1):\n",
    "                current_index=len_text-1\n",
    "                break\n",
    "            number_of_comparisons+=1\n",
    "            \"\"\"\n",
    "            print(\"K1:\" + searched_pattern[index_of_pattern])\n",
    "            print(\"K2:\" + text[end_point]) \"\"\"\n",
    "            if(searched_pattern[index_of_pattern] != text[end_point]):\n",
    "                shift_count=0\n",
    "                if(text[end_point] in shift_dict.keys()):\n",
    "                    d1=shift_dict[text[end_point]]\n",
    "                else:\n",
    "                    d1=shift_dict['Other letters']\n",
    "                if(k>0):\n",
    "                    d2=shift_dict_good[k][0]\n",
    "                else:\n",
    "                    d2=0\n",
    "                d1 = max(d1-k,1)\n",
    "                shift_count=max(d1,d2)\n",
    "                #print(\"KARŞILAŞTIRMA (SON KARAKTER): \" + text[last_char_of_comparison])\n",
    "                current_index=current_index+shift_count\n",
    "                #print(\"Eşleşme başarısız\")\n",
    "                matched=False\n",
    "                k=0\n",
    "                break\n",
    "            else:\n",
    "                #print(\"Eşleşme başarılı\")\n",
    "                matched=True\n",
    "                k+=1\n",
    "    print(\"Number of comparison: \" + str(number_of_comparisons))\n",
    "    print(\"Match count: \" + str(match_count))\n",
    "    elapsed_time=time.time()-start\n",
    "    print(\"Elapsed time: \" + str(elapsed_time))\n",
    "    target_text=add_mark_tag(current_matched_index,searched_pattern,text)\n",
    "    with open(input_path + \"_output.html\",'w') as file:\n",
    "        file.write(target_text)"
   ]
  },
  {
   "attachments": {},
   "cell_type": "markdown",
   "metadata": {},
   "source": [
    "TESTING IMPLEMENTED ALGORITHMS:"
   ]
  },
  {
   "cell_type": "code",
   "execution_count": 9,
   "metadata": {},
   "outputs": [
    {
     "name": "stdout",
     "output_type": "stream",
     "text": [
      "Len: 1048602\n",
      "Number of comparison: 2120888\n",
      "Match count: 4301\n",
      "Elapsed time: 0.5685076713562012\n",
      "1048597\n"
     ]
    }
   ],
   "source": [
    "input_path =\"test_bitstring_w.html\"\n",
    "BruteForce(input_path,\"100101\")"
   ]
  },
  {
   "cell_type": "code",
   "execution_count": 10,
   "metadata": {},
   "outputs": [
    {
     "name": "stdout",
     "output_type": "stream",
     "text": [
      "{'0': 1, '1': 2, 'Other letters': 6}\n",
      "Number of comparison: 1387716\n",
      "Match count: 4301\n",
      "Elapsed time: 0.4787464141845703\n"
     ]
    }
   ],
   "source": [
    "HorsPool(input_path,\"100101\")"
   ]
  },
  {
   "cell_type": "code",
   "execution_count": 11,
   "metadata": {},
   "outputs": [
    {
     "name": "stdout",
     "output_type": "stream",
     "text": [
      "{1: [5, '1'], 2: [2, '01'], 3: [5, '101'], 4: [5, '0101'], 5: [5, '00101'], 6: [5, '100101']}\n",
      "{'0': 1, '1': 2, 'Other letters': 6}\n",
      "Number of comparison: 635964\n",
      "Match count: 4301\n",
      "Elapsed time: 0.2682816982269287\n"
     ]
    }
   ],
   "source": [
    "Bayer_Moore(input_path,\"100101\")"
   ]
  },
  {
   "attachments": {},
   "cell_type": "markdown",
   "metadata": {},
   "source": [
    "UniformBit-1MB-101010"
   ]
  },
  {
   "cell_type": "code",
   "execution_count": 30,
   "metadata": {},
   "outputs": [
    {
     "name": "stdout",
     "output_type": "stream",
     "text": [
      "Len: 1048602\n",
      "Number of comparison: 2065748\n",
      "Match count: 16483\n",
      "Elapsed time: 0.5754640102386475\n",
      "1048597\n"
     ]
    }
   ],
   "source": [
    "input_path=\"Tests/UniformBit-1MB-101010/test_bitstring.html\"\n",
    "BruteForce(input_path,\"101010\")"
   ]
  },
  {
   "cell_type": "code",
   "execution_count": 31,
   "metadata": {},
   "outputs": [
    {
     "name": "stdout",
     "output_type": "stream",
     "text": [
      "{'1': 1, '0': 2, 'Other letters': 6}\n",
      "Number of comparison: 1558194\n",
      "Match count: 16483\n",
      "Elapsed time: 0.5834665298461914\n"
     ]
    }
   ],
   "source": [
    "HorsPool(input_path,\"101010\")"
   ]
  },
  {
   "cell_type": "code",
   "execution_count": 32,
   "metadata": {},
   "outputs": [
    {
     "name": "stdout",
     "output_type": "stream",
     "text": [
      "{1: [6, '0'], 2: [4, '10'], 3: [4, '010'], 4: [2, '1010'], 5: [2, '01010'], 6: [2, '101010']}\n",
      "{'1': 1, '0': 2, 'Other letters': 6}\n",
      "Number of comparison: 859410\n",
      "Match count: 16483\n",
      "Elapsed time: 0.3979635238647461\n"
     ]
    }
   ],
   "source": [
    "Bayer_Moore(input_path,\"101010\")"
   ]
  },
  {
   "attachments": {},
   "cell_type": "markdown",
   "metadata": {},
   "source": [
    "UniformBit-1MB-101010101010"
   ]
  },
  {
   "cell_type": "code",
   "execution_count": 15,
   "metadata": {},
   "outputs": [
    {
     "name": "stdout",
     "output_type": "stream",
     "text": [
      "Len: 1048602\n",
      "Number of comparison: 2096991\n",
      "Match count: 230\n",
      "Elapsed time: 0.5626697540283203\n",
      "1048591\n"
     ]
    }
   ],
   "source": [
    "input_path=\"Tests/UniformBit-1MB-101010101010/test_bitstring.html\"\n",
    "BruteForce(input_path,\"101010101010\")"
   ]
  },
  {
   "cell_type": "code",
   "execution_count": 16,
   "metadata": {},
   "outputs": [
    {
     "name": "stdout",
     "output_type": "stream",
     "text": [
      "{'1': 1, '0': 2, 'Other letters': 12}\n",
      "Number of comparison: 1573429\n",
      "Match count: 230\n",
      "Elapsed time: 0.6113910675048828\n"
     ]
    }
   ],
   "source": [
    "HorsPool(input_path,\"101010101010\")"
   ]
  },
  {
   "cell_type": "code",
   "execution_count": 17,
   "metadata": {},
   "outputs": [
    {
     "name": "stdout",
     "output_type": "stream",
     "text": [
      "{1: [12, '0'], 2: [10, '10'], 3: [10, '010'], 4: [8, '1010'], 5: [8, '01010'], 6: [6, '101010'], 7: [6, '0101010'], 8: [4, '10101010'], 9: [4, '010101010'], 10: [2, '1010101010'], 11: [2, '01010101010'], 12: [2, '101010101010']}\n",
      "{'1': 1, '0': 2, 'Other letters': 12}\n",
      "Number of comparison: 399418\n",
      "Match count: 230\n",
      "Elapsed time: 0.21644830703735352\n"
     ]
    }
   ],
   "source": [
    "Bayer_Moore(input_path,\"101010101010\")"
   ]
  },
  {
   "attachments": {},
   "cell_type": "markdown",
   "metadata": {},
   "source": [
    "UnifromBit-2MB-101010"
   ]
  },
  {
   "cell_type": "code",
   "execution_count": 18,
   "metadata": {},
   "outputs": [
    {
     "name": "stdout",
     "output_type": "stream",
     "text": [
      "Len: 2097178\n",
      "Number of comparison: 4129498\n",
      "Match count: 32700\n",
      "Elapsed time: 1.17787504196167\n",
      "2097173\n"
     ]
    }
   ],
   "source": [
    "input_path=\"Tests/UnifromBit-2MB-101010/test_bitstring.html\"\n",
    "BruteForce(input_path,\"101010\")"
   ]
  },
  {
   "cell_type": "code",
   "execution_count": 19,
   "metadata": {},
   "outputs": [
    {
     "name": "stdout",
     "output_type": "stream",
     "text": [
      "{'1': 1, '0': 2, 'Other letters': 6}\n",
      "Number of comparison: 3112631\n",
      "Match count: 32700\n",
      "Elapsed time: 1.2117838859558105\n"
     ]
    }
   ],
   "source": [
    "HorsPool(input_path,\"101010\")"
   ]
  },
  {
   "cell_type": "code",
   "execution_count": 20,
   "metadata": {},
   "outputs": [
    {
     "name": "stdout",
     "output_type": "stream",
     "text": [
      "{1: [6, '0'], 2: [4, '10'], 3: [4, '010'], 4: [2, '1010'], 5: [2, '01010'], 6: [2, '101010']}\n",
      "{'1': 1, '0': 2, 'Other letters': 6}\n",
      "Number of comparison: 1717205\n",
      "Match count: 32700\n",
      "Elapsed time: 1.0102980136871338\n"
     ]
    }
   ],
   "source": [
    "Bayer_Moore(input_path,\"101010\")"
   ]
  },
  {
   "attachments": {},
   "cell_type": "markdown",
   "metadata": {},
   "source": [
    "UnifromBit-4MB-101010"
   ]
  },
  {
   "cell_type": "code",
   "execution_count": 21,
   "metadata": {},
   "outputs": [
    {
     "name": "stdout",
     "output_type": "stream",
     "text": [
      "Len: 4194330\n",
      "Number of comparison: 8254745\n",
      "Match count: 65297\n",
      "Elapsed time: 2.3098528385162354\n",
      "4194325\n"
     ]
    }
   ],
   "source": [
    "input_path=\"Tests/UnifromBit-4MB-101010/test_bitstring.html\"\n",
    "BruteForce(input_path,\"101010\")"
   ]
  },
  {
   "cell_type": "code",
   "execution_count": 22,
   "metadata": {},
   "outputs": [
    {
     "name": "stdout",
     "output_type": "stream",
     "text": [
      "{'1': 1, '0': 2, 'Other letters': 6}\n",
      "Number of comparison: 6225127\n",
      "Match count: 65297\n",
      "Elapsed time: 2.2759270668029785\n"
     ]
    }
   ],
   "source": [
    "HorsPool(input_path,\"101010\")"
   ]
  },
  {
   "cell_type": "code",
   "execution_count": 23,
   "metadata": {},
   "outputs": [
    {
     "name": "stdout",
     "output_type": "stream",
     "text": [
      "{1: [6, '0'], 2: [4, '10'], 3: [4, '010'], 4: [2, '1010'], 5: [2, '01010'], 6: [2, '101010']}\n",
      "{'1': 1, '0': 2, 'Other letters': 6}\n",
      "Number of comparison: 3432520\n",
      "Match count: 65297\n",
      "Elapsed time: 1.7612874507904053\n"
     ]
    }
   ],
   "source": [
    "Bayer_Moore(input_path,\"101010\")"
   ]
  },
  {
   "attachments": {},
   "cell_type": "markdown",
   "metadata": {},
   "source": [
    "HighProbabilityOf0inInput-1MB-100010"
   ]
  },
  {
   "cell_type": "code",
   "execution_count": 36,
   "metadata": {},
   "outputs": [
    {
     "name": "stdout",
     "output_type": "stream",
     "text": [
      "Len: 1048602\n",
      "Number of comparison: 1688324\n",
      "Match count: 17112\n",
      "Elapsed time: 0.47373056411743164\n",
      "1048597\n"
     ]
    }
   ],
   "source": [
    "input_path=\"Tests/HighProbabilityOf0inInput-1MB-100010/test_bitstring.html\"\n",
    "BruteForce(input_path,\"100010\")"
   ]
  },
  {
   "cell_type": "code",
   "execution_count": 37,
   "metadata": {},
   "outputs": [
    {
     "name": "stdout",
     "output_type": "stream",
     "text": [
      "{'1': 1, '0': 2, 'Other letters': 6}\n",
      "Number of comparison: 1560754\n",
      "Match count: 17112\n",
      "Elapsed time: 0.5086374282836914\n"
     ]
    }
   ],
   "source": [
    "HorsPool(input_path,\"100010\")"
   ]
  },
  {
   "cell_type": "code",
   "execution_count": 38,
   "metadata": {},
   "outputs": [
    {
     "name": "stdout",
     "output_type": "stream",
     "text": [
      "{1: [2, '0'], 2: [4, '10'], 3: [4, '010'], 4: [4, '0010'], 5: [4, '00010'], 6: [4, '100010']}\n",
      "{'1': 1, '0': 2, 'Other letters': 6}\n",
      "Number of comparison: 1248875\n",
      "Match count: 17112\n",
      "Elapsed time: 0.5465366840362549\n"
     ]
    }
   ],
   "source": [
    "Bayer_Moore(input_path,\"100010\")"
   ]
  },
  {
   "attachments": {},
   "cell_type": "markdown",
   "metadata": {},
   "source": [
    "HighProbabilityOf1inInput-1MB-100010"
   ]
  },
  {
   "cell_type": "code",
   "execution_count": 33,
   "metadata": {},
   "outputs": [
    {
     "name": "stdout",
     "output_type": "stream",
     "text": [
      "Len: 1048602\n",
      "Number of comparison: 2100730\n",
      "Match count: 1088\n",
      "Elapsed time: 0.5824687480926514\n",
      "1048597\n"
     ]
    }
   ],
   "source": [
    "input_path=\"Tests/HighProbabilityOf1inInput-1MB-100010/test_bitstring.html\"\n",
    "BruteForce(input_path,\"100010\")"
   ]
  },
  {
   "cell_type": "code",
   "execution_count": 34,
   "metadata": {},
   "outputs": [
    {
     "name": "stdout",
     "output_type": "stream",
     "text": [
      "{'1': 1, '0': 2, 'Other letters': 6}\n",
      "Number of comparison: 1259329\n",
      "Match count: 1088\n",
      "Elapsed time: 0.6482658386230469\n"
     ]
    }
   ],
   "source": [
    "HorsPool(input_path,\"100010\")"
   ]
  },
  {
   "cell_type": "code",
   "execution_count": 35,
   "metadata": {},
   "outputs": [
    {
     "name": "stdout",
     "output_type": "stream",
     "text": [
      "{1: [2, '0'], 2: [4, '10'], 3: [4, '010'], 4: [4, '0010'], 5: [4, '00010'], 6: [4, '100010']}\n",
      "{'1': 1, '0': 2, 'Other letters': 6}\n",
      "Number of comparison: 937949\n",
      "Match count: 1088\n",
      "Elapsed time: 0.6073729991912842\n"
     ]
    }
   ],
   "source": [
    "Bayer_Moore(input_path,\"100010\")"
   ]
  },
  {
   "cell_type": "code",
   "execution_count": null,
   "metadata": {},
   "outputs": [],
   "source": []
  }
 ],
 "metadata": {
  "kernelspec": {
   "display_name": "Python 3",
   "language": "python",
   "name": "python3"
  },
  "language_info": {
   "codemirror_mode": {
    "name": "ipython",
    "version": 3
   },
   "file_extension": ".py",
   "mimetype": "text/x-python",
   "name": "python",
   "nbconvert_exporter": "python",
   "pygments_lexer": "ipython3",
   "version": "3.9.1rc1"
  },
  "orig_nbformat": 4
 },
 "nbformat": 4,
 "nbformat_minor": 2
}
