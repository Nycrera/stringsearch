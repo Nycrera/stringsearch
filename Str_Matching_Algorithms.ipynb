{
 "cells": [
  {
   "attachments": {},
   "cell_type": "markdown",
   "metadata": {},
   "source": [
    "ADD MARK TAG FUNCTION:"
   ]
  },
  {
   "cell_type": "code",
   "execution_count": 1,
   "metadata": {},
   "outputs": [
    {
     "data": {
      "text/plain": [
       "'000<mark>10101</mark>1000000<mark>101</mark>0000<mark>10101</mark>00000000'"
      ]
     },
     "execution_count": 1,
     "metadata": {},
     "output_type": "execute_result"
    }
   ],
   "source": [
    "def add_mark_tag(current_matched_index,searched_pattern,text):\n",
    "   target_text=\"\"\n",
    "   skip=False\n",
    "   for i in range(len(current_matched_index)):\n",
    "      if not (skip):\n",
    "         if i == 0:\n",
    "            k=0\n",
    "         else:\n",
    "            k=current_matched_index[i-1]+len(searched_pattern)+13\n",
    "         if i+1>len(current_matched_index)-1:\n",
    "            e=len(text)\n",
    "         else:\n",
    "            e=current_matched_index[i+1]\n",
    "            if (current_matched_index[i] + len(searched_pattern)-1==current_matched_index[i+1]):\n",
    "               if i+2 > len(current_matched_index)-1:\n",
    "                  e=len(text)\n",
    "               else:\n",
    "                  e=current_matched_index[i+2]\n",
    "               target_text+=text[k:current_matched_index[i]] + \"<mark>\" + searched_pattern + searched_pattern[1:] + \"</mark>\" + text[current_matched_index[i]+len(searched_pattern)*2-1:e]\n",
    "               skip=True\n",
    "         if not (skip):\n",
    "            target_text += text[k:current_matched_index[i]] + \"<mark>\" + searched_pattern + \"</mark>\" + text[current_matched_index[i]+len(searched_pattern):e]\n",
    "      else:\n",
    "         if i+1==len(current_matched_index)-1:\n",
    "            e=len(text)\n",
    "            target_text+=text[current_matched_index[i]+len(searched_pattern)*2-1:e]\n",
    "         skip=False\n",
    "   return target_text\n",
    "add_mark_tag([3,5,15,22,24],\"101\",\"00010101100000010100001010100000000\")  "
   ]
  },
  {
   "attachments": {},
   "cell_type": "markdown",
   "metadata": {},
   "source": [
    "BRUTE FORCE ALGORITHM:"
   ]
  },
  {
   "cell_type": "code",
   "execution_count": 2,
   "metadata": {},
   "outputs": [],
   "source": [
    "import time    \n",
    "def BruteForce(input_path, searched_pattern):\n",
    "    print(\"BRUTE FORCE: \" + input_path)\n",
    "    with open(input_path, \"r\", encoding='utf-8') as f:\n",
    "        text= f.read()\n",
    "    #text=\"abcabcabbbfgergoabckewşrkgeşrgerabcabcw4erwrwerabc\"\n",
    "    #text=\"10000100001\"\n",
    "    len_searched_pattern = len(searched_pattern)\n",
    "    len_text = len(text)\n",
    "    print(\"Len: \"+str(len_text))\n",
    "    current_index = 0\n",
    "    current_matched_index=[]\n",
    "    match_count=0\n",
    "    number_of_comparisons=0\n",
    "    elapsed_time=0\n",
    "    target_text=\"\"\n",
    "    start=time.time()\n",
    "    matched=False\n",
    "    while(current_index < len_text-len_searched_pattern+1):\n",
    "        if(matched):\n",
    "            current_matched_index.append(current_index)\n",
    "            current_index+=1\n",
    "            #print(\"Genel Eşleşme başarılı: \" + text[(current_index-len_searched_pattern):current_index])\n",
    "            match_count+=1\n",
    "        for index_of_pattern in range(len_searched_pattern):\n",
    "            end_point = current_index+index_of_pattern\n",
    "            if(end_point>len_text-len_searched_pattern+1):\n",
    "                break\n",
    "            number_of_comparisons+=1\n",
    "            \"\"\"\n",
    "            print(\"K1:\" + searched_pattern[index_of_pattern])\n",
    "            print(\"K2:\" + text[end_point]) \"\"\"\n",
    "            if(searched_pattern[index_of_pattern] != text[end_point]):\n",
    "                current_index=current_index+1\n",
    "                #print(\"Eşleşme başarısız\")\n",
    "                matched=False\n",
    "                break\n",
    "            else:\n",
    "                #print(\"Eşleşme başarılı\")\n",
    "                matched=True\n",
    "    print(\"Number of comparison: \" + str(number_of_comparisons))\n",
    "    print(\"Match count: \" + str(match_count))\n",
    "    elapsed_time=time.time()-start\n",
    "    print(\"Elapsed time: \" + str(elapsed_time))\n",
    "    print(\"----------------\\n\")\n",
    "    target_text=add_mark_tag(current_matched_index,searched_pattern,text)\n",
    "    import os\n",
    "    file_name = searched_pattern+\"/\"+ \"_\"+searched_pattern\n",
    "    if not os.path.exists(file_name):\n",
    "        os.makedirs(os.path.dirname(file_name), exist_ok=True)\n",
    "    with open(file_name+ \"_output.html\",'w',encoding='utf-8') as file:\n",
    "        file.write(target_text)\n",
    "    file_name=searched_pattern+\"/\"+searched_pattern + \"_BruteForce_results.txt\"\n",
    "    with open(file_name,'a',encoding='utf-8') as txt_file:\n",
    "        txt_file.write(\"Algorithm: Brute Force \\n\\n\")\n",
    "        txt_file.write(\"Input File: \" + input_path)\n",
    "        txt_file.write(\"\\nOutput File: \" + input_path + \"_\"+searched_pattern+\"_results.txt\\n\")\n",
    "        txt_file.write(\"\\n\\nSearched Pattern: \" + searched_pattern)\n",
    "        txt_file.write(\"\\nNumber of comparison: \" + str(number_of_comparisons) +\"\\n\")\n",
    "        txt_file.write(\"Match count: \" + str(match_count) + \"\\n\")\n",
    "        txt_file.write(\"Elapsed time: \" + str(int(elapsed_time*1000))+\"ms\\n\")\n",
    "        txt_file.write(\"--------------\\n\\n\\n\")\n"
   ]
  },
  {
   "cell_type": "code",
   "execution_count": 3,
   "metadata": {},
   "outputs": [
    {
     "name": "stdout",
     "output_type": "stream",
     "text": [
      "BRUTE FORCE: test_bitstring_w.html\n",
      "Len: 1048602\n",
      "Number of comparison: 2120888\n",
      "Match count: 4301\n",
      "Elapsed time: 0.5335981845855713\n",
      "----------------\n",
      "\n"
     ]
    }
   ],
   "source": [
    "input_path =\"test_bitstring_w.html\"\n",
    "BruteForce(input_path,\"100101\")"
   ]
  },
  {
   "attachments": {},
   "cell_type": "markdown",
   "metadata": {},
   "source": [
    "CREATING BAD SYMBOL TABLE FOR BAYER-MOORE AND HORSPOOL"
   ]
  },
  {
   "cell_type": "code",
   "execution_count": 4,
   "metadata": {},
   "outputs": [],
   "source": [
    "def get_bad_symbol_table(searched_pattern):\n",
    "    searched_pattern = searched_pattern[::-1]\n",
    "    bad_symbol_dict={}\n",
    "    for val in range(1,len(searched_pattern)):\n",
    "        if(searched_pattern[val] not in bad_symbol_dict.keys()):\n",
    "            bad_symbol_dict[searched_pattern[val]] = val\n",
    "    bad_symbol_dict['Other letters'] = len(searched_pattern)\n",
    "    return bad_symbol_dict"
   ]
  },
  {
   "attachments": {},
   "cell_type": "markdown",
   "metadata": {},
   "source": [
    "HORSPOOL ALGORITHM:"
   ]
  },
  {
   "cell_type": "code",
   "execution_count": 5,
   "metadata": {},
   "outputs": [],
   "source": [
    "def HorsPool(input_path, searched_pattern):\n",
    "    print(\"HORSPOOL: \"+ input_path)\n",
    "    with open(input_path, \"r\", encoding='utf-8') as f:\n",
    "        text= f.read()\n",
    "    #text=\"10000100001\"\n",
    "    len_searched_pattern = len(searched_pattern)\n",
    "    len_text = len(text)\n",
    "    current_matched_index=[]\n",
    "    current_index = 0\n",
    "    number_of_comparisons=0\n",
    "    elapsed_time=0\n",
    "    match_count=0\n",
    "    target_text=\"\"\n",
    "    start=time.time()\n",
    "    matched=False\n",
    "    shift_dict = get_bad_symbol_table(searched_pattern)\n",
    "    print(shift_dict)\n",
    "    while(current_index < len_text-len_searched_pattern+1):\n",
    "        if(matched):\n",
    "            current_matched_index.append(current_index)\n",
    "            current_index+=1\n",
    "            #print(\"Genel Eşleşme başarılı: \" + text[(current_index-len_searched_pattern):current_index])\n",
    "            match_count+=1\n",
    "        for index_of_pattern in range(len_searched_pattern-1,-1,-1):\n",
    "            end_point = current_index+index_of_pattern\n",
    "            last_char_of_comparison = current_index+len_searched_pattern-1\n",
    "            if(end_point>len_text-len_searched_pattern+1):\n",
    "                current_index=len_text-1\n",
    "                break\n",
    "            number_of_comparisons+=1\n",
    "            \"\"\"\n",
    "            print(\"K1:\" + searched_pattern[index_of_pattern])\n",
    "            print(\"K2:\" + text[end_point]) \"\"\"\n",
    "            if(searched_pattern[index_of_pattern] != text[end_point]):\n",
    "                shift_count=0\n",
    "                if(text[last_char_of_comparison] in shift_dict.keys()):\n",
    "                    shift_count=shift_dict[text[last_char_of_comparison]]\n",
    "                else:\n",
    "                    shift_count=shift_dict['Other letters']\n",
    "                #print(\"KARŞILAŞTIRMA (SON KARAKTER): \" + text[last_char_of_comparison])\n",
    "                current_index=current_index+shift_count\n",
    "                #print(\"Eşleşme başarısız\")\n",
    "                matched=False\n",
    "                break\n",
    "            else:\n",
    "                #print(\"Eşleşme başarılı\")\n",
    "                matched=True\n",
    "    print(\"Number of comparison: \" + str(number_of_comparisons))\n",
    "    print(\"Match count: \" + str(match_count))\n",
    "    elapsed_time=time.time()-start\n",
    "    print(\"Elapsed time: \" + str(elapsed_time))\n",
    "    print(\"----------------\\n\")\n",
    "    target_text=add_mark_tag(current_matched_index,searched_pattern,text)\n",
    "    import os\n",
    "    file_name = searched_pattern+\"/\"+ \"_\"+searched_pattern \n",
    "    if not os.path.exists(file_name):\n",
    "        os.makedirs(os.path.dirname(file_name), exist_ok=True)\n",
    "    with open(file_name+ \"_output.html\",'w',encoding='utf-8') as file:\n",
    "        file.write(target_text)\n",
    "    file_name=searched_pattern+\"/\"+searched_pattern + \"_Horspool_results.txt\"\n",
    "    with open(file_name,'a',encoding='utf-8') as txt_file:\n",
    "        txt_file.write(\"Algorithm: Horspool \\n\\n\")\n",
    "        txt_file.write(\"Input File: \" + input_path)\n",
    "        txt_file.write(\"\\nOutput File: \" + input_path + \"_\"+searched_pattern+\"_results.txt\\n\")\n",
    "        txt_file.write(\"\\n\\nSearched Pattern: \" + searched_pattern)\n",
    "        txt_file.write(\"\\nNumber of comparison: \" + str(number_of_comparisons) +\"\\n\")\n",
    "        txt_file.write(\"Match count: \" + str(match_count) + \"\\n\")\n",
    "        txt_file.write(\"Elapsed time: \" + str(int(elapsed_time*1000))+\"ms\\n\")\n",
    "        txt_file.write(\"\\nBad Symbol Table: \\n\")\n",
    "        for key, value in shift_dict.items():\n",
    "            txt_file.write(\"d1(\"+key+\")=\" + str(value)+\"\\n\")\n",
    "        txt_file.write(\"--------------\\n\\n\\n\")\n"
   ]
  },
  {
   "attachments": {},
   "cell_type": "markdown",
   "metadata": {},
   "source": [
    "BUILDING GOOD SUFFIX TABLE AND DETECTING PREFIX-SUFFIX OCCURENCES FOR BAYER-MOORE:"
   ]
  },
  {
   "cell_type": "code",
   "execution_count": 6,
   "metadata": {},
   "outputs": [
    {
     "data": {
      "text/plain": [
       "{1: [6, '0'],\n",
       " 2: [4, '10'],\n",
       " 3: [4, '010'],\n",
       " 4: [2, '1010'],\n",
       " 5: [2, '01010'],\n",
       " 6: [2, '101010']}"
      ]
     },
     "execution_count": 6,
     "metadata": {},
     "output_type": "execute_result"
    }
   ],
   "source": [
    "def is_longest_occurence(good_suffix_table,k,matched_pattern,searched_pattern):\n",
    "     if(k==2):\n",
    "         return False\n",
    "     if((len(good_suffix_table.keys())>1) and (good_suffix_table[k-1][1] in matched_pattern)) and (good_suffix_table[k-1][1] in searched_pattern[0:len(good_suffix_table[k-1][1])]):\n",
    "         return True\n",
    "     else:\n",
    "         return is_longest_occurence(good_suffix_table,k-1,matched_pattern,searched_pattern)\n",
    "def build_good_suffix_table(searched_pattern):\n",
    "    len_searched_pattern = len(searched_pattern)\n",
    "    good_suffix_table = {}\n",
    "    k=1\n",
    "    while(k<=len_searched_pattern):\n",
    "        matched_pattern = searched_pattern[(len_searched_pattern-k):len(searched_pattern)]\n",
    "        len_matched_pattern = len(matched_pattern)\n",
    "        if(k-1>=0) and len_searched_pattern-k>=1:\n",
    "            preciding_char = searched_pattern[len_searched_pattern-k-1]\n",
    "        else:\n",
    "            preciding_char=\" \"\n",
    "        current_char=\"\"\n",
    "        \"\"\"\n",
    "        print(\"Matched_pattern: \" + matched_pattern)\n",
    "        print(\"Preceeding char: \" +preciding_char)\n",
    "        \"\"\"\n",
    "        current_index=0\n",
    "        reference_index=-1\n",
    "        while(current_index<len_searched_pattern-1):\n",
    "            for i in range(current_index,len_searched_pattern+1,k):\n",
    "                if (searched_pattern[i:i+k] == matched_pattern):\n",
    "                    \"\"\"\n",
    "                    if matched_pattern==\"00101\":\n",
    "                        print(matched_pattern + \" founded in: \" +str(i) + \"-\" + str(i+k))\n",
    "                    \"\"\"\n",
    "                    if(i == 0):\n",
    "                        reference_index=0\n",
    "                    elif(preciding_char != searched_pattern[i-1]):\n",
    "                        reference_index=i\n",
    "            current_index+=1\n",
    "        #print(\"Reference_index:\" + str(reference_index))\n",
    "        if(reference_index==-1 or k==len_searched_pattern) :\n",
    "            #print(searched_pattern[0:len(good_suffix_table[k-1][1])])\n",
    "            if((len(good_suffix_table.keys())>1) and (good_suffix_table[k-1][1] in matched_pattern)) and is_longest_occurence(good_suffix_table,k,matched_pattern,searched_pattern):\n",
    "                #if(matched_pattern==\"00101\"):\n",
    "                    #print(\"ferfewr\")\n",
    "                d = good_suffix_table[k-1][0]\n",
    "            elif(matched_pattern[len_matched_pattern-1] == searched_pattern[0]): #Last char-first char match\n",
    "                #print(\"dwddddddd\")\n",
    "                d=len_searched_pattern-1\n",
    "            else:\n",
    "                d=len_searched_pattern\n",
    "        else:\n",
    "            #print(\"aaaaa\" + matched_pattern)\n",
    "            d=len_searched_pattern-reference_index-1-(len_matched_pattern-1)\n",
    "        lst=[d,matched_pattern]\n",
    "        good_suffix_table[k]=lst\n",
    "        \"\"\"\n",
    "        print(\"d:\" + str(d))\n",
    "        print(\"k:\"+str(k))\n",
    "        print(\"--------\\n\")\n",
    "        \"\"\"\n",
    "        k+=1\n",
    "    return good_suffix_table\n",
    "build_good_suffix_table(\"101010\")"
   ]
  },
  {
   "attachments": {},
   "cell_type": "markdown",
   "metadata": {},
   "source": [
    "BAYER-MOORE ALGORITHM:"
   ]
  },
  {
   "cell_type": "code",
   "execution_count": 7,
   "metadata": {},
   "outputs": [],
   "source": [
    "def Bayer_Moore(input_path,searched_pattern):\n",
    "    print(\"BAYER-MOORE: \" + input_path)\n",
    "    with open(input_path, \"r\", encoding='utf-8') as f:\n",
    "        text= f.read()\n",
    "    #text=\"10000100001\"\n",
    "    len_searched_pattern = len(searched_pattern)\n",
    "    len_text = len(text)\n",
    "    current_matched_index=[]\n",
    "    current_index = 0\n",
    "    number_of_comparisons=0\n",
    "    elapsed_time=0\n",
    "    k=0\n",
    "    match_count=0\n",
    "    target_text=\"\"\n",
    "    start=time.time()\n",
    "    matched=False\n",
    "    shift_dict = get_bad_symbol_table(searched_pattern)\n",
    "    shift_dict_good = build_good_suffix_table(searched_pattern)\n",
    "    print(shift_dict_good)\n",
    "    print(shift_dict)\n",
    "    while(current_index < len_text-len_searched_pattern+1):\n",
    "        #print(current_index)\n",
    "        if(matched):\n",
    "            current_matched_index.append(current_index)\n",
    "            current_index+=1\n",
    "            #print(\"Genel Eşleşme başarılı: \" + text[(current_index-len_searched_pattern):current_index])\n",
    "            match_count+=1\n",
    "        k=0\n",
    "        for index_of_pattern in range(len_searched_pattern-1,-1,-1):\n",
    "            end_point = current_index+index_of_pattern\n",
    "            if(end_point>len_text-len_searched_pattern+1):\n",
    "                current_index=len_text-1\n",
    "                break\n",
    "            number_of_comparisons+=1\n",
    "            \"\"\"\n",
    "            print(\"K1:\" + searched_pattern[index_of_pattern])\n",
    "            print(\"K2:\" + text[end_point]) \"\"\"\n",
    "            if(searched_pattern[index_of_pattern] != text[end_point]):\n",
    "                shift_count=0\n",
    "                if(text[end_point] in shift_dict.keys()):\n",
    "                    d1=shift_dict[text[end_point]]\n",
    "                else:\n",
    "                    d1=shift_dict['Other letters']\n",
    "                if(k>0):\n",
    "                    d2=shift_dict_good[k][0]\n",
    "                else:\n",
    "                    d2=0\n",
    "                d1 = max(d1-k,1)\n",
    "                shift_count=max(d1,d2)\n",
    "                #print(\"KARŞILAŞTIRMA (SON KARAKTER): \" + text[last_char_of_comparison])\n",
    "                current_index=current_index+shift_count\n",
    "                #print(\"Eşleşme başarısız\")\n",
    "                matched=False\n",
    "                k=0\n",
    "                break\n",
    "            else:\n",
    "                #print(\"Eşleşme başarılı\")\n",
    "                matched=True\n",
    "                k+=1\n",
    "    print(\"Number of comparison: \" + str(number_of_comparisons))\n",
    "    print(\"Match count: \" + str(match_count))\n",
    "    elapsed_time=time.time()-start\n",
    "    print(\"Elapsed time: \" + str(elapsed_time))\n",
    "    print(\"----------------\\n\")\n",
    "    target_text=add_mark_tag(current_matched_index,searched_pattern,text)\n",
    "    import os\n",
    "    file_name = searched_pattern+\"/\"+ \"_\"+searched_pattern \n",
    "    if not os.path.exists(file_name):\n",
    "        os.makedirs(os.path.dirname(file_name), exist_ok=True)\n",
    "    with open(file_name+ \"_output.html\",'w',encoding='utf-8') as file:\n",
    "        file.write(target_text)\n",
    "        file_name=searched_pattern+\"/\"+searched_pattern + \"_Bayer-Moore_results.txt\"\n",
    "    with open(file_name,'a',encoding='utf-8') as txt_file:\n",
    "        txt_file.write(\"Algorithm: Bayer-Moore \\n\\n\")\n",
    "        txt_file.write(\"Input File: \" + input_path)\n",
    "        txt_file.write(\"\\nOutput File: \" + input_path + \"_\"+searched_pattern+\"_results.txt\\n\")\n",
    "        txt_file.write(\"\\n\\nSearched Pattern: \" + searched_pattern)\n",
    "        txt_file.write(\"\\nNumber of comparison: \" + str(number_of_comparisons) +\"\\n\")\n",
    "        txt_file.write(\"Match count: \" + str(match_count) + \"\\n\")\n",
    "        txt_file.write(\"Elapsed time: \" + str(int(elapsed_time*1000))+\"ms\\n\")\n",
    "        txt_file.write(\"\\nBad Symbol Table: \\n\")\n",
    "        for key, value in shift_dict.items():\n",
    "            txt_file.write(\"d1(\"+key+\")=\" + str(value)+\"\\n\")\n",
    "        txt_file.write(\"\\nGood Suffix Table:\\n\")\n",
    "        for key, value in shift_dict_good.items():\n",
    "            txt_file.write(\"k=\"+str(key) + \" d2=\" + str(value[0])+\"\\n\")\n",
    "        txt_file.write(\"--------------\\n\\n\\n\")"
   ]
  },
  {
   "attachments": {},
   "cell_type": "markdown",
   "metadata": {},
   "source": [
    "TESTING IMPLEMENTED ALGORITHMS:"
   ]
  },
  {
   "cell_type": "code",
   "execution_count": 8,
   "metadata": {},
   "outputs": [
    {
     "name": "stdout",
     "output_type": "stream",
     "text": [
      "BRUTE FORCE: test_bitstring_w.html\n",
      "Len: 1048602\n",
      "Number of comparison: 2120888\n",
      "Match count: 4301\n",
      "Elapsed time: 0.5934104919433594\n",
      "----------------\n",
      "\n"
     ]
    }
   ],
   "source": [
    "input_path =\"test_bitstring_w.html\"\n",
    "BruteForce(input_path,\"100101\")"
   ]
  },
  {
   "cell_type": "code",
   "execution_count": 9,
   "metadata": {},
   "outputs": [
    {
     "name": "stdout",
     "output_type": "stream",
     "text": [
      "HORSPOOL: test_bitstring_w.html\n",
      "{'0': 1, '1': 2, 'Other letters': 6}\n",
      "Number of comparison: 1387716\n",
      "Match count: 4301\n",
      "Elapsed time: 0.5166451930999756\n",
      "----------------\n",
      "\n"
     ]
    }
   ],
   "source": [
    "HorsPool(input_path,\"100101\")"
   ]
  },
  {
   "cell_type": "code",
   "execution_count": 10,
   "metadata": {},
   "outputs": [
    {
     "name": "stdout",
     "output_type": "stream",
     "text": [
      "BAYER-MOORE: test_bitstring_w.html\n",
      "{1: [5, '1'], 2: [2, '01'], 3: [5, '101'], 4: [5, '0101'], 5: [5, '00101'], 6: [5, '100101']}\n",
      "{'0': 1, '1': 2, 'Other letters': 6}\n",
      "Number of comparison: 635964\n",
      "Match count: 4301\n",
      "Elapsed time: 0.271298885345459\n",
      "----------------\n",
      "\n"
     ]
    }
   ],
   "source": [
    "Bayer_Moore(input_path,\"100101\")"
   ]
  },
  {
   "attachments": {},
   "cell_type": "markdown",
   "metadata": {},
   "source": [
    "UniformBit-1MB-101010"
   ]
  },
  {
   "cell_type": "code",
   "execution_count": 11,
   "metadata": {},
   "outputs": [
    {
     "name": "stdout",
     "output_type": "stream",
     "text": [
      "BRUTE FORCE: Tests/UniformBit-1MB-101010/test_bitstring.html\n",
      "Len: 1048602\n",
      "Number of comparison: 2065748\n",
      "Match count: 16483\n",
      "Elapsed time: 0.5655183792114258\n",
      "----------------\n",
      "\n"
     ]
    }
   ],
   "source": [
    "input_path=\"Tests/UniformBit-1MB-101010/test_bitstring.html\"\n",
    "BruteForce(input_path,\"101010\")"
   ]
  },
  {
   "cell_type": "code",
   "execution_count": 12,
   "metadata": {},
   "outputs": [
    {
     "name": "stdout",
     "output_type": "stream",
     "text": [
      "HORSPOOL: Tests/UniformBit-1MB-101010/test_bitstring.html\n",
      "{'1': 1, '0': 2, 'Other letters': 6}\n",
      "Number of comparison: 1558194\n",
      "Match count: 16483\n",
      "Elapsed time: 0.5694749355316162\n",
      "----------------\n",
      "\n"
     ]
    }
   ],
   "source": [
    "HorsPool(input_path,\"101010\")"
   ]
  },
  {
   "cell_type": "code",
   "execution_count": 13,
   "metadata": {},
   "outputs": [
    {
     "name": "stdout",
     "output_type": "stream",
     "text": [
      "BAYER-MOORE: Tests/UniformBit-1MB-101010/test_bitstring.html\n",
      "{1: [6, '0'], 2: [4, '10'], 3: [4, '010'], 4: [2, '1010'], 5: [2, '01010'], 6: [2, '101010']}\n",
      "{'1': 1, '0': 2, 'Other letters': 6}\n",
      "Number of comparison: 859410\n",
      "Match count: 16483\n",
      "Elapsed time: 0.39397573471069336\n",
      "----------------\n",
      "\n"
     ]
    }
   ],
   "source": [
    "Bayer_Moore(input_path,\"101010\")"
   ]
  },
  {
   "attachments": {},
   "cell_type": "markdown",
   "metadata": {},
   "source": [
    "UniformBit-1MB-101010101010"
   ]
  },
  {
   "cell_type": "code",
   "execution_count": 14,
   "metadata": {},
   "outputs": [
    {
     "name": "stdout",
     "output_type": "stream",
     "text": [
      "BRUTE FORCE: Tests/UniformBit-1MB-101010101010/test_bitstring.html\n",
      "Len: 1048602\n",
      "Number of comparison: 2096991\n",
      "Match count: 230\n",
      "Elapsed time: 0.5345973968505859\n",
      "----------------\n",
      "\n"
     ]
    }
   ],
   "source": [
    "input_path=\"Tests/UniformBit-1MB-101010101010/test_bitstring.html\"\n",
    "BruteForce(input_path,\"101010101010\")"
   ]
  },
  {
   "cell_type": "code",
   "execution_count": 15,
   "metadata": {},
   "outputs": [
    {
     "name": "stdout",
     "output_type": "stream",
     "text": [
      "HORSPOOL: Tests/UniformBit-1MB-101010101010/test_bitstring.html\n",
      "{'1': 1, '0': 2, 'Other letters': 12}\n",
      "Number of comparison: 1573429\n",
      "Match count: 230\n",
      "Elapsed time: 0.650259256362915\n",
      "----------------\n",
      "\n"
     ]
    }
   ],
   "source": [
    "HorsPool(input_path,\"101010101010\")"
   ]
  },
  {
   "cell_type": "code",
   "execution_count": 16,
   "metadata": {},
   "outputs": [
    {
     "name": "stdout",
     "output_type": "stream",
     "text": [
      "BAYER-MOORE: Tests/UniformBit-1MB-101010101010/test_bitstring.html\n",
      "{1: [12, '0'], 2: [10, '10'], 3: [10, '010'], 4: [8, '1010'], 5: [8, '01010'], 6: [6, '101010'], 7: [6, '0101010'], 8: [4, '10101010'], 9: [4, '010101010'], 10: [2, '1010101010'], 11: [2, '01010101010'], 12: [2, '101010101010']}\n",
      "{'1': 1, '0': 2, 'Other letters': 12}\n",
      "Number of comparison: 399418\n",
      "Match count: 230\n",
      "Elapsed time: 0.19747161865234375\n",
      "----------------\n",
      "\n"
     ]
    }
   ],
   "source": [
    "Bayer_Moore(input_path,\"101010101010\")"
   ]
  },
  {
   "attachments": {},
   "cell_type": "markdown",
   "metadata": {},
   "source": [
    "UnifromBit-2MB-101010"
   ]
  },
  {
   "cell_type": "code",
   "execution_count": 17,
   "metadata": {},
   "outputs": [
    {
     "name": "stdout",
     "output_type": "stream",
     "text": [
      "BRUTE FORCE: Tests/UnifromBit-2MB-101010/test_bitstring.html\n",
      "Len: 2097178\n",
      "Number of comparison: 4129498\n",
      "Match count: 32700\n",
      "Elapsed time: 1.107069969177246\n",
      "----------------\n",
      "\n"
     ]
    }
   ],
   "source": [
    "input_path=\"Tests/UnifromBit-2MB-101010/test_bitstring.html\"\n",
    "BruteForce(input_path,\"101010\")"
   ]
  },
  {
   "cell_type": "code",
   "execution_count": 18,
   "metadata": {},
   "outputs": [
    {
     "name": "stdout",
     "output_type": "stream",
     "text": [
      "HORSPOOL: Tests/UnifromBit-2MB-101010/test_bitstring.html\n",
      "{'1': 1, '0': 2, 'Other letters': 6}\n",
      "Number of comparison: 3112631\n",
      "Match count: 32700\n",
      "Elapsed time: 1.196824312210083\n",
      "----------------\n",
      "\n"
     ]
    }
   ],
   "source": [
    "HorsPool(input_path,\"101010\")"
   ]
  },
  {
   "cell_type": "code",
   "execution_count": 19,
   "metadata": {},
   "outputs": [
    {
     "name": "stdout",
     "output_type": "stream",
     "text": [
      "BAYER-MOORE: Tests/UnifromBit-2MB-101010/test_bitstring.html\n",
      "{1: [6, '0'], 2: [4, '10'], 3: [4, '010'], 4: [2, '1010'], 5: [2, '01010'], 6: [2, '101010']}\n",
      "{'1': 1, '0': 2, 'Other letters': 6}\n",
      "Number of comparison: 1717205\n",
      "Match count: 32700\n",
      "Elapsed time: 0.83280348777771\n",
      "----------------\n",
      "\n"
     ]
    }
   ],
   "source": [
    "Bayer_Moore(input_path,\"101010\")"
   ]
  },
  {
   "attachments": {},
   "cell_type": "markdown",
   "metadata": {},
   "source": [
    "UnifromBit-4MB-101010"
   ]
  },
  {
   "cell_type": "code",
   "execution_count": 20,
   "metadata": {},
   "outputs": [
    {
     "name": "stdout",
     "output_type": "stream",
     "text": [
      "BRUTE FORCE: Tests/UnifromBit-4MB-101010/test_bitstring.html\n",
      "Len: 4194330\n",
      "Number of comparison: 8254745\n",
      "Match count: 65297\n",
      "Elapsed time: 2.1741890907287598\n",
      "----------------\n",
      "\n"
     ]
    }
   ],
   "source": [
    "input_path=\"Tests/UnifromBit-4MB-101010/test_bitstring.html\"\n",
    "BruteForce(input_path,\"101010\")"
   ]
  },
  {
   "cell_type": "code",
   "execution_count": 21,
   "metadata": {},
   "outputs": [
    {
     "name": "stdout",
     "output_type": "stream",
     "text": [
      "HORSPOOL: Tests/UnifromBit-4MB-101010/test_bitstring.html\n",
      "{'1': 1, '0': 2, 'Other letters': 6}\n",
      "Number of comparison: 6225127\n",
      "Match count: 65297\n",
      "Elapsed time: 2.3856499195098877\n",
      "----------------\n",
      "\n"
     ]
    }
   ],
   "source": [
    "HorsPool(input_path,\"101010\")"
   ]
  },
  {
   "cell_type": "code",
   "execution_count": 22,
   "metadata": {},
   "outputs": [
    {
     "name": "stdout",
     "output_type": "stream",
     "text": [
      "BAYER-MOORE: Tests/UnifromBit-4MB-101010/test_bitstring.html\n",
      "{1: [6, '0'], 2: [4, '10'], 3: [4, '010'], 4: [2, '1010'], 5: [2, '01010'], 6: [2, '101010']}\n",
      "{'1': 1, '0': 2, 'Other letters': 6}\n",
      "Number of comparison: 3432520\n",
      "Match count: 65297\n",
      "Elapsed time: 1.7323918342590332\n",
      "----------------\n",
      "\n"
     ]
    }
   ],
   "source": [
    "Bayer_Moore(input_path,\"101010\")"
   ]
  },
  {
   "attachments": {},
   "cell_type": "markdown",
   "metadata": {},
   "source": [
    "HighProbabilityOf0inInput-1MB-100010"
   ]
  },
  {
   "cell_type": "code",
   "execution_count": 23,
   "metadata": {},
   "outputs": [
    {
     "name": "stdout",
     "output_type": "stream",
     "text": [
      "BRUTE FORCE: Tests/HighProbabilityOf0inInput-1MB-100010/test_bitstring.html\n",
      "Len: 1048602\n",
      "Number of comparison: 1688324\n",
      "Match count: 17112\n",
      "Elapsed time: 0.5216028690338135\n",
      "----------------\n",
      "\n"
     ]
    }
   ],
   "source": [
    "input_path=\"Tests/HighProbabilityOf0inInput-1MB-100010/test_bitstring.html\"\n",
    "BruteForce(input_path,\"100010\")"
   ]
  },
  {
   "cell_type": "code",
   "execution_count": 24,
   "metadata": {},
   "outputs": [
    {
     "name": "stdout",
     "output_type": "stream",
     "text": [
      "HORSPOOL: Tests/HighProbabilityOf0inInput-1MB-100010/test_bitstring.html\n",
      "{'1': 1, '0': 2, 'Other letters': 6}\n",
      "Number of comparison: 1560754\n",
      "Match count: 17112\n",
      "Elapsed time: 0.5864579677581787\n",
      "----------------\n",
      "\n"
     ]
    }
   ],
   "source": [
    "HorsPool(input_path,\"100010\")"
   ]
  },
  {
   "cell_type": "code",
   "execution_count": 25,
   "metadata": {},
   "outputs": [
    {
     "name": "stdout",
     "output_type": "stream",
     "text": [
      "BAYER-MOORE: Tests/HighProbabilityOf0inInput-1MB-100010/test_bitstring.html\n",
      "{1: [2, '0'], 2: [4, '10'], 3: [4, '010'], 4: [4, '0010'], 5: [4, '00010'], 6: [4, '100010']}\n",
      "{'1': 1, '0': 2, 'Other letters': 6}\n",
      "Number of comparison: 1248875\n",
      "Match count: 17112\n",
      "Elapsed time: 0.5385599136352539\n",
      "----------------\n",
      "\n"
     ]
    }
   ],
   "source": [
    "Bayer_Moore(input_path,\"100010\")"
   ]
  },
  {
   "attachments": {},
   "cell_type": "markdown",
   "metadata": {},
   "source": [
    "HighProbabilityOf1inInput-1MB-100010"
   ]
  },
  {
   "cell_type": "code",
   "execution_count": 26,
   "metadata": {},
   "outputs": [
    {
     "name": "stdout",
     "output_type": "stream",
     "text": [
      "BRUTE FORCE: Tests/HighProbabilityOf1inInput-1MB-100010/test_bitstring.html\n",
      "Len: 1048602\n",
      "Number of comparison: 2100730\n",
      "Match count: 1088\n",
      "Elapsed time: 0.6971352100372314\n",
      "----------------\n",
      "\n"
     ]
    }
   ],
   "source": [
    "input_path=\"Tests/HighProbabilityOf1inInput-1MB-100010/test_bitstring.html\"\n",
    "BruteForce(input_path,\"100010\")"
   ]
  },
  {
   "cell_type": "code",
   "execution_count": 27,
   "metadata": {},
   "outputs": [
    {
     "name": "stdout",
     "output_type": "stream",
     "text": [
      "HORSPOOL: Tests/HighProbabilityOf1inInput-1MB-100010/test_bitstring.html\n",
      "{'1': 1, '0': 2, 'Other letters': 6}\n",
      "Number of comparison: 1259329\n",
      "Match count: 1088\n",
      "Elapsed time: 0.6362969875335693\n",
      "----------------\n",
      "\n"
     ]
    }
   ],
   "source": [
    "HorsPool(input_path,\"100010\")"
   ]
  },
  {
   "cell_type": "code",
   "execution_count": 28,
   "metadata": {},
   "outputs": [
    {
     "name": "stdout",
     "output_type": "stream",
     "text": [
      "BAYER-MOORE: Tests/HighProbabilityOf1inInput-1MB-100010/test_bitstring.html\n",
      "{1: [2, '0'], 2: [4, '10'], 3: [4, '010'], 4: [4, '0010'], 5: [4, '00010'], 6: [4, '100010']}\n",
      "{'1': 1, '0': 2, 'Other letters': 6}\n",
      "Number of comparison: 937949\n",
      "Match count: 1088\n",
      "Elapsed time: 0.5934112071990967\n",
      "----------------\n",
      "\n"
     ]
    }
   ],
   "source": [
    "Bayer_Moore(input_path,\"100010\")"
   ]
  },
  {
   "attachments": {},
   "cell_type": "markdown",
   "metadata": {},
   "source": [
    "Analyzing English HTML FILES "
   ]
  },
  {
   "cell_type": "code",
   "execution_count": 29,
   "metadata": {},
   "outputs": [],
   "source": [
    "import nltk"
   ]
  },
  {
   "cell_type": "code",
   "execution_count": 30,
   "metadata": {},
   "outputs": [],
   "source": [
    "def analyze_html_file(input_path):\n",
    "    with open(input_path, \"r\", encoding='utf-8') as f:\n",
    "            text= f.read()\n",
    "    from nltk.tokenize import word_tokenize\n",
    "    from nltk.corpus import stopwords\n",
    "    from nltk.corpus import words\n",
    "    import matplotlib.pyplot as plt\n",
    "\n",
    "    with open(input_path, 'r',encoding='utf-8') as file:\n",
    "        text = file.read()\n",
    "        tokens = nltk.word_tokenize(text.lower())\n",
    "\n",
    "    stop_words = set(stopwords.words('english'))\n",
    "    filtered_tokens = [word for word in tokens if word.isalpha() and word not in stop_words]\n",
    "    english_words = set(words.words())\n",
    "    filtered_tokens = [word for word in filtered_tokens if word in english_words]\n",
    "    freq_dist = nltk.FreqDist(filtered_tokens)\n",
    "    max_elements = freq_dist.most_common(10)\n",
    "    # Exclude the top 10 maximum elements\n",
    "    filtered_freq_dist = [(word, count) for word, count in freq_dist.items() if (word, count) not in max_elements]\n",
    "\n",
    "    # Create a new frequency distribution\n",
    "    filtered_freq_dist = nltk.FreqDist(dict(filtered_freq_dist))\n",
    "\n",
    "    # Plot the remaining frequency distribution\n",
    "    plt.figure(figsize=(10, 6))\n",
    "    filtered_freq_dist.plot(30, cumulative=False,title=input_path.split(\"/\")[1])\n",
    "    \"\"\"\n",
    "    plt.figure(figsize=(10, 6))\n",
    "    freq_dist.plot(30, cumulative=False,title=input_path.split(\"/\")[1])\"\"\"\n",
    "    \n",
    "\n",
    "    min_elements = freq_dist.most_common()[:-11:-1]\n",
    "\n",
    "    print(\"Last 10 minimum elements:\")\n",
    "    for element, count in min_elements:\n",
    "        print(element, \":\", count)\n",
    "    max_elements = freq_dist.most_common(10)\n",
    "    print(\"\\n\")\n",
    "    print(\"Top 10 maximum elements:\")\n",
    "    for element, count in max_elements:\n",
    "        print(element, \":\", count)\n",
    "    longest_word = \"\"\n",
    "    for word in filtered_tokens:\n",
    "        if len(word) > len(longest_word):\n",
    "            longest_word = word\n",
    "    print(\"Longest word:\", longest_word)"
   ]
  },
  {
   "cell_type": "code",
   "execution_count": 31,
   "metadata": {},
   "outputs": [
    {
     "data": {
      "image/png": "[encoded data removed]",
      "text/plain": [
       "<Figure size 1000x600 with 1 Axes>"
      ]
     },
     "metadata": {},
     "output_type": "display_data"
    },
    {
     "name": "stdout",
     "output_type": "stream",
     "text": [
      "Last 10 minimum elements:\n",
      "weather : 1\n",
      "quote : 1\n",
      "huh : 1\n",
      "fill : 1\n",
      "powered : 1\n",
      "statement : 1\n",
      "agree : 1\n",
      "apply : 1\n",
      "creative : 1\n",
      "triggered : 1\n",
      "\n",
      "\n",
      "Top 10 maximum elements:\n",
      "span : 2034\n",
      "li : 1950\n",
      "div : 744\n",
      "sup : 656\n",
      "b : 588\n",
      "reference : 471\n",
      "link : 463\n",
      "text : 395\n",
      "turkey : 376\n",
      "external : 353\n",
      "Longest word: transcontinental\n"
     ]
    },
    {
     "data": {
      "image/png": "[encoded data removed]",
      "text/plain": [
       "<Figure size 1000x600 with 1 Axes>"
      ]
     },
     "metadata": {},
     "output_type": "display_data"
    },
    {
     "name": "stdout",
     "output_type": "stream",
     "text": [
      "Last 10 minimum elements:\n",
      "collapsible : 1\n",
      "powered : 1\n",
      "statement : 1\n",
      "mobile : 1\n",
      "agree : 1\n",
      "apply : 1\n",
      "additional : 1\n",
      "creative : 1\n",
      "inverted : 1\n",
      "racecourse : 1\n",
      "\n",
      "\n",
      "Top 10 maximum elements:\n",
      "span : 2316\n",
      "li : 1896\n",
      "div : 669\n",
      "text : 663\n",
      "external : 652\n",
      "de : 595\n",
      "sup : 546\n",
      "b : 480\n",
      "reference : 422\n",
      "link : 420\n",
      "Longest word: constitutionality\n"
     ]
    },
    {
     "data": {
      "image/png": "[encoded data removed]",
      "text/plain": [
       "<Figure size 1000x600 with 1 Axes>"
      ]
     },
     "metadata": {},
     "output_type": "display_data"
    },
    {
     "name": "stdout",
     "output_type": "stream",
     "text": [
      "Last 10 minimum elements:\n",
      "unreferenced : 1\n",
      "stroke : 1\n",
      "powered : 1\n",
      "statement : 1\n",
      "mobile : 1\n",
      "agree : 1\n",
      "apply : 1\n",
      "rendering : 1\n",
      "saved : 1\n",
      "loaded : 1\n",
      "\n",
      "\n",
      "Top 10 maximum elements:\n",
      "li : 2789\n",
      "span : 2390\n",
      "div : 767\n",
      "b : 670\n",
      "text : 539\n",
      "external : 507\n",
      "china : 498\n",
      "sup : 498\n",
      "th : 363\n",
      "link : 358\n",
      "Longest word: entrepreneurship\n"
     ]
    }
   ],
   "source": [
    "input_paths=[\"Test 2/Istanbul - Wikipedia.html\",\"Test 2/Paris - Wikipedia.html\",\"Test 2/Beijing - Wikipedia.html\"]\n",
    "for input_path in input_paths:\n",
    "    analyze_html_file(input_path)\n"
   ]
  },
  {
   "attachments": {},
   "cell_type": "markdown",
   "metadata": {},
   "source": [
    "Testing English HTML FILES"
   ]
  },
  {
   "attachments": {},
   "cell_type": "markdown",
   "metadata": {},
   "source": [
    "City keyword - According to analyzer, city is a common word for all html files\n"
   ]
  },
  {
   "cell_type": "code",
   "execution_count": 32,
   "metadata": {},
   "outputs": [
    {
     "name": "stdout",
     "output_type": "stream",
     "text": [
      "BRUTE FORCE: Test 2/Istanbul - Wikipedia.html\n",
      "Len: 1059063\n",
      "Number of comparison: 1090524\n",
      "Match count: 237\n",
      "Elapsed time: 0.39394450187683105\n",
      "----------------\n",
      "\n",
      "HORSPOOL: Test 2/Istanbul - Wikipedia.html\n",
      "{'t': 1, 'i': 2, 'c': 3, 'Other letters': 4}\n",
      "Number of comparison: 293454\n",
      "Match count: 237\n",
      "Elapsed time: 0.17253732681274414\n",
      "----------------\n",
      "\n",
      "BAYER-MOORE: Test 2/Istanbul - Wikipedia.html\n",
      "{1: [4, 'y'], 2: [4, 'ty'], 3: [4, 'ity'], 4: [4, 'city']}\n",
      "{'t': 1, 'i': 2, 'c': 3, 'Other letters': 4}\n",
      "Number of comparison: 293454\n",
      "Match count: 237\n",
      "Elapsed time: 0.2672574520111084\n",
      "----------------\n",
      "\n",
      "BRUTE FORCE: Test 2/Paris - Wikipedia.html\n",
      "Len: 1228627\n",
      "Number of comparison: 1265574\n",
      "Match count: 208\n",
      "Elapsed time: 0.5385825634002686\n",
      "----------------\n",
      "\n",
      "HORSPOOL: Test 2/Paris - Wikipedia.html\n",
      "{'t': 1, 'i': 2, 'c': 3, 'Other letters': 4}\n",
      "Number of comparison: 338073\n",
      "Match count: 208\n",
      "Elapsed time: 0.2014617919921875\n",
      "----------------\n",
      "\n",
      "BAYER-MOORE: Test 2/Paris - Wikipedia.html\n",
      "{1: [4, 'y'], 2: [4, 'ty'], 3: [4, 'ity'], 4: [4, 'city']}\n",
      "{'t': 1, 'i': 2, 'c': 3, 'Other letters': 4}\n",
      "Number of comparison: 338073\n",
      "Match count: 208\n",
      "Elapsed time: 0.27128124237060547\n",
      "----------------\n",
      "\n",
      "BRUTE FORCE: Test 2/Beijing - Wikipedia.html\n",
      "Len: 1237867\n",
      "Number of comparison: 1272651\n",
      "Match count: 294\n",
      "Elapsed time: 0.5106625556945801\n",
      "----------------\n",
      "\n",
      "HORSPOOL: Test 2/Beijing - Wikipedia.html\n",
      "{'t': 1, 'i': 2, 'c': 3, 'Other letters': 4}\n",
      "Number of comparison: 343049\n",
      "Match count: 294\n",
      "Elapsed time: 0.2014603614807129\n",
      "----------------\n",
      "\n",
      "BAYER-MOORE: Test 2/Beijing - Wikipedia.html\n",
      "{1: [4, 'y'], 2: [4, 'ty'], 3: [4, 'ity'], 4: [4, 'city']}\n",
      "{'t': 1, 'i': 2, 'c': 3, 'Other letters': 4}\n",
      "Number of comparison: 343049\n",
      "Match count: 294\n",
      "Elapsed time: 0.2842721939086914\n",
      "----------------\n",
      "\n"
     ]
    }
   ],
   "source": [
    "def test_for_all(input_paths,searched_pattern):\n",
    "    for input_path in input_paths:\n",
    "        BruteForce(input_path,searched_pattern)\n",
    "        HorsPool(input_path,searched_pattern)\n",
    "        Bayer_Moore(input_path,searched_pattern)\n",
    "test_for_all(input_paths,\"city\")"
   ]
  },
  {
   "attachments": {},
   "cell_type": "markdown",
   "metadata": {},
   "source": [
    "Turkey keyword - It is just a common word for İstanbul"
   ]
  },
  {
   "cell_type": "code",
   "execution_count": 33,
   "metadata": {},
   "outputs": [
    {
     "name": "stdout",
     "output_type": "stream",
     "text": [
      "BRUTE FORCE: Test 2/Istanbul - Wikipedia.html\n",
      "Len: 1059063\n",
      "Number of comparison: 1067224\n",
      "Match count: 740\n",
      "Elapsed time: 0.41089725494384766\n",
      "----------------\n",
      "\n",
      "HORSPOOL: Test 2/Istanbul - Wikipedia.html\n",
      "{'e': 1, 'k': 2, 'r': 3, 'u': 4, 'T': 5, 'Other letters': 6}\n",
      "Number of comparison: 199072\n",
      "Match count: 740\n",
      "Elapsed time: 0.14161944389343262\n",
      "----------------\n",
      "\n",
      "BAYER-MOORE: Test 2/Istanbul - Wikipedia.html\n",
      "{1: [6, 'y'], 2: [6, 'ey'], 3: [6, 'key'], 4: [6, 'rkey'], 5: [6, 'urkey'], 6: [6, 'Turkey']}\n",
      "{'e': 1, 'k': 2, 'r': 3, 'u': 4, 'T': 5, 'Other letters': 6}\n",
      "Number of comparison: 199072\n",
      "Match count: 740\n",
      "Elapsed time: 0.19245529174804688\n",
      "----------------\n",
      "\n",
      "BRUTE FORCE: Test 2/Paris - Wikipedia.html\n",
      "Len: 1228627\n",
      "Number of comparison: 1232405\n",
      "Match count: 29\n",
      "Elapsed time: 0.5016269683837891\n",
      "----------------\n",
      "\n",
      "HORSPOOL: Test 2/Paris - Wikipedia.html\n",
      "{'e': 1, 'k': 2, 'r': 3, 'u': 4, 'T': 5, 'Other letters': 6}\n",
      "Number of comparison: 226096\n",
      "Match count: 29\n",
      "Elapsed time: 0.16655635833740234\n",
      "----------------\n",
      "\n",
      "BAYER-MOORE: Test 2/Paris - Wikipedia.html\n",
      "{1: [6, 'y'], 2: [6, 'ey'], 3: [6, 'key'], 4: [6, 'rkey'], 5: [6, 'urkey'], 6: [6, 'Turkey']}\n",
      "{'e': 1, 'k': 2, 'r': 3, 'u': 4, 'T': 5, 'Other letters': 6}\n",
      "Number of comparison: 226096\n",
      "Match count: 29\n",
      "Elapsed time: 0.21342897415161133\n",
      "----------------\n",
      "\n",
      "BRUTE FORCE: Test 2/Beijing - Wikipedia.html\n",
      "Len: 1237867\n",
      "Number of comparison: 1240595\n",
      "Match count: 19\n",
      "Elapsed time: 0.49866461753845215\n",
      "----------------\n",
      "\n",
      "HORSPOOL: Test 2/Beijing - Wikipedia.html\n",
      "{'e': 1, 'k': 2, 'r': 3, 'u': 4, 'T': 5, 'Other letters': 6}\n",
      "Number of comparison: 225337\n",
      "Match count: 19\n",
      "Elapsed time: 0.15162062644958496\n",
      "----------------\n",
      "\n",
      "BAYER-MOORE: Test 2/Beijing - Wikipedia.html\n",
      "{1: [6, 'y'], 2: [6, 'ey'], 3: [6, 'key'], 4: [6, 'rkey'], 5: [6, 'urkey'], 6: [6, 'Turkey']}\n",
      "{'e': 1, 'k': 2, 'r': 3, 'u': 4, 'T': 5, 'Other letters': 6}\n",
      "Number of comparison: 225337\n",
      "Match count: 19\n",
      "Elapsed time: 0.18350958824157715\n",
      "----------------\n",
      "\n"
     ]
    }
   ],
   "source": [
    "test_for_all(input_paths,\"Turkey\")"
   ]
  },
  {
   "attachments": {},
   "cell_type": "markdown",
   "metadata": {},
   "source": [
    "Longest word search:"
   ]
  },
  {
   "cell_type": "code",
   "execution_count": 34,
   "metadata": {},
   "outputs": [
    {
     "name": "stdout",
     "output_type": "stream",
     "text": [
      "BRUTE FORCE: Test 2\\Beijing - Wikipedia.html\n",
      "Len: 1237867\n",
      "Number of comparison: 1319650\n",
      "Match count: 0\n",
      "Elapsed time: 0.5156424045562744\n",
      "----------------\n",
      "\n",
      "HORSPOOL: Test 2\\Beijing - Wikipedia.html\n",
      "{'i': 1, 'h': 2, 's': 3, 'r': 4, 'u': 5, 'n': 6, 'e': 7, 'p': 9, 't': 12, 'Other letters': 15}\n",
      "Number of comparison: 108423\n",
      "Match count: 0\n",
      "Elapsed time: 0.06380152702331543\n",
      "----------------\n",
      "\n",
      "BAYER-MOORE: Test 2\\Beijing - Wikipedia.html\n",
      "{1: [9, 'p'], 2: [15, 'ip'], 3: [15, 'hip'], 4: [15, 'ship'], 5: [15, 'rship'], 6: [15, 'urship'], 7: [15, 'nurship'], 8: [15, 'enurship'], 9: [15, 'renurship'], 10: [15, 'prenurship'], 11: [15, 'eprenurship'], 12: [15, 'reprenurship'], 13: [15, 'treprenurship'], 14: [15, 'ntreprenurship'], 15: [15, 'entreprenurship']}\n",
      "{'i': 1, 'h': 2, 's': 3, 'r': 4, 'u': 5, 'n': 6, 'e': 7, 'p': 9, 't': 12, 'Other letters': 15}\n",
      "Number of comparison: 108101\n",
      "Match count: 0\n",
      "Elapsed time: 0.10372400283813477\n",
      "----------------\n",
      "\n",
      "BRUTE FORCE: Test 2\\Istanbul - Wikipedia.html\n",
      "Len: 1059063\n",
      "Number of comparison: 1120913\n",
      "Match count: 1\n",
      "Elapsed time: 0.4348411560058594\n",
      "----------------\n",
      "\n",
      "HORSPOOL: Test 2\\Istanbul - Wikipedia.html\n",
      "{'a': 1, 't': 2, 'n': 3, 'e': 4, 'i': 6, 'o': 9, 'c': 10, 's': 11, 'r': 14, 'Other letters': 16}\n",
      "Number of comparison: 95160\n",
      "Match count: 1\n",
      "Elapsed time: 0.04986572265625\n",
      "----------------\n",
      "\n",
      "BAYER-MOORE: Test 2\\Istanbul - Wikipedia.html\n",
      "{1: [16, 'l'], 2: [16, 'al'], 3: [16, 'tal'], 4: [16, 'ntal'], 5: [16, 'ental'], 6: [16, 'nental'], 7: [16, 'inental'], 8: [16, 'tinental'], 9: [16, 'ntinental'], 10: [16, 'ontinental'], 11: [16, 'continental'], 12: [16, 'scontinental'], 13: [16, 'nscontinental'], 14: [16, 'anscontinental'], 15: [16, 'ranscontinental'], 16: [16, 'transcontinental']}\n",
      "{'a': 1, 't': 2, 'n': 3, 'e': 4, 'i': 6, 'o': 9, 'c': 10, 's': 11, 'r': 14, 'Other letters': 16}\n",
      "Number of comparison: 95160\n",
      "Match count: 1\n",
      "Elapsed time: 0.07579612731933594\n",
      "----------------\n",
      "\n",
      "BRUTE FORCE: Test 2\\Paris - Wikipedia.html\n",
      "Len: 1228627\n",
      "Number of comparison: 1264057\n",
      "Match count: 1\n",
      "Elapsed time: 0.52461838722229\n",
      "----------------\n",
      "\n",
      "HORSPOOL: Test 2\\Paris - Wikipedia.html\n",
      "{'t': 1, 'i': 2, 'l': 3, 'a': 4, 'n': 5, 'o': 6, 'u': 9, 's': 13, 'c': 16, 'Other letters': 17}\n",
      "Number of comparison: 97987\n",
      "Match count: 1\n",
      "Elapsed time: 0.06781697273254395\n",
      "----------------\n",
      "\n",
      "BAYER-MOORE: Test 2\\Paris - Wikipedia.html\n",
      "{1: [17, 'y'], 2: [17, 'ty'], 3: [17, 'ity'], 4: [17, 'lity'], 5: [17, 'ality'], 6: [17, 'nality'], 7: [17, 'onality'], 8: [17, 'ionality'], 9: [17, 'tionality'], 10: [17, 'utionality'], 11: [17, 'tutionality'], 12: [17, 'itutionality'], 13: [17, 'titutionality'], 14: [17, 'stitutionality'], 15: [17, 'nstitutionality'], 16: [17, 'onstitutionality'], 17: [17, 'constitutionality']}\n",
      "{'t': 1, 'i': 2, 'l': 3, 'a': 4, 'n': 5, 'o': 6, 'u': 9, 's': 13, 'c': 16, 'Other letters': 17}\n",
      "Number of comparison: 97987\n",
      "Match count: 1\n",
      "Elapsed time: 0.080810546875\n",
      "----------------\n",
      "\n"
     ]
    }
   ],
   "source": [
    "#constitutionality-Paris\n",
    "#entrepreneurship-Beijing\n",
    "#transcontinental-Turkey\n",
    "test_for_all([\"Test 2\\Beijing - Wikipedia.html\"],\"entreprenurship\")\n",
    "test_for_all([\"Test 2\\Istanbul - Wikipedia.html\"],\"transcontinental\")\n",
    "test_for_all([\"Test 2\\Paris - Wikipedia.html\"],\"constitutionality\")"
   ]
  },
  {
   "attachments": {},
   "cell_type": "markdown",
   "metadata": {},
   "source": [
    "Letter Search - a"
   ]
  },
  {
   "cell_type": "code",
   "execution_count": 35,
   "metadata": {},
   "outputs": [
    {
     "name": "stdout",
     "output_type": "stream",
     "text": [
      "BRUTE FORCE: Test 2/Istanbul - Wikipedia.html\n",
      "Len: 1059063\n",
      "Number of comparison: 1059063\n",
      "Match count: 62501\n",
      "Elapsed time: 0.45478224754333496\n",
      "----------------\n",
      "\n",
      "HORSPOOL: Test 2/Istanbul - Wikipedia.html\n",
      "{'Other letters': 1}\n",
      "Number of comparison: 1059063\n",
      "Match count: 62501\n",
      "Elapsed time: 0.6043825149536133\n",
      "----------------\n",
      "\n",
      "BAYER-MOORE: Test 2/Istanbul - Wikipedia.html\n",
      "{1: [0, 'a']}\n",
      "{'Other letters': 1}\n",
      "Number of comparison: 1059063\n",
      "Match count: 62501\n",
      "Elapsed time: 0.7888901233673096\n",
      "----------------\n",
      "\n",
      "BRUTE FORCE: Test 2/Paris - Wikipedia.html\n",
      "Len: 1228627\n",
      "Number of comparison: 1228627\n",
      "Match count: 71774\n",
      "Elapsed time: 0.49068713188171387\n",
      "----------------\n",
      "\n",
      "HORSPOOL: Test 2/Paris - Wikipedia.html\n",
      "{'Other letters': 1}\n",
      "Number of comparison: 1228627\n",
      "Match count: 71774\n",
      "Elapsed time: 0.6821498870849609\n",
      "----------------\n",
      "\n",
      "BAYER-MOORE: Test 2/Paris - Wikipedia.html\n",
      "{1: [0, 'a']}\n",
      "{'Other letters': 1}\n",
      "Number of comparison: 1228627\n",
      "Match count: 71774\n",
      "Elapsed time: 0.9594244956970215\n",
      "----------------\n",
      "\n",
      "BRUTE FORCE: Test 2/Beijing - Wikipedia.html\n",
      "Len: 1237867\n",
      "Number of comparison: 1237867\n",
      "Match count: 73163\n",
      "Elapsed time: 0.5186407566070557\n",
      "----------------\n",
      "\n",
      "HORSPOOL: Test 2/Beijing - Wikipedia.html\n",
      "{'Other letters': 1}\n",
      "Number of comparison: 1237867\n",
      "Match count: 73163\n",
      "Elapsed time: 0.7510194778442383\n",
      "----------------\n",
      "\n",
      "BAYER-MOORE: Test 2/Beijing - Wikipedia.html\n",
      "{1: [0, 'a']}\n",
      "{'Other letters': 1}\n",
      "Number of comparison: 1237867\n",
      "Match count: 73163\n",
      "Elapsed time: 0.9823465347290039\n",
      "----------------\n",
      "\n"
     ]
    }
   ],
   "source": [
    "test_for_all(input_paths,\"a\")"
   ]
  },
  {
   "cell_type": "code",
   "execution_count": null,
   "metadata": {},
   "outputs": [],
   "source": []
  }
 ],
 "metadata": {
  "kernelspec": {
   "display_name": "Python 3",
   "language": "python",
   "name": "python3"
  },
  "language_info": {
   "codemirror_mode": {
    "name": "ipython",
    "version": 3
   },
   "file_extension": ".py",
   "mimetype": "text/x-python",
   "name": "python",
   "nbconvert_exporter": "python",
   "pygments_lexer": "ipython3",
   "version": "3.9.1rc1"
  },
  "orig_nbformat": 4
 },
 "nbformat": 4,
 "nbformat_minor": 2
}
